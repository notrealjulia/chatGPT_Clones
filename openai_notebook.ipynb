{
 "cells": [
  {
   "cell_type": "markdown",
   "metadata": {},
   "source": [
    "### FOR TESTING SMALL CODE SNIPPETS"
   ]
  },
  {
   "cell_type": "markdown",
   "metadata": {},
   "source": [
    "https://platform.openai.com/docs/guides/text-generation\n",
    "\n",
    "https://cookbook.openai.com/\n"
   ]
  },
  {
   "cell_type": "markdown",
   "metadata": {},
   "source": [
    "How to set a system prompt and make a single call to OpenAI\n"
   ]
  },
  {
   "cell_type": "code",
   "execution_count": 8,
   "metadata": {},
   "outputs": [],
   "source": [
    "\n",
    "from openai import OpenAI\n",
    "import streamlit as st\n",
    "\n",
    "client =  OpenAI(api_key=st.secrets[\"OPENAI_API_KEY\"])\n",
    "\n",
    "completion = client.chat.completions.create(\n",
    "  model=\"gpt-3.5-turbo\",\n",
    "  messages=[\n",
    "    {\"role\": \"system\", \"content\": \"You are a poetic assistant, skilled in explaining complex programming concepts with creative flair.\"},\n",
    "    {\"role\": \"user\", \"content\": \"Compose a poem that explains the concept of recursion in programming.\"}\n",
    "  ]\n",
    ")\n",
    "\n",
    "response_content = completion.choices[0].message.content"
   ]
  },
  {
   "cell_type": "code",
   "execution_count": 9,
   "metadata": {},
   "outputs": [
    {
     "name": "stdout",
     "output_type": "stream",
     "text": [
      "In the world of code, there is a technique rare,\n",
      "Known as recursion, it's quite a software affair.\n",
      "Like a mirror reflecting its own image back,\n",
      "Recursion calls itself, following the right track.\n",
      "\n",
      "A function that calls itself, again and again,\n",
      "Until a base case or condition is attained.\n",
      "Dividing a big problem into smaller parts,\n",
      "Recursion unravels with graceful arts.\n",
      "\n",
      "Just like a Russian nesting doll so neat,\n",
      "Recursion unwraps layers until complete.\n",
      "Infinite loops it might create,\n",
      "But with proper base case, it's never too late.\n",
      "\n",
      "So elegant and puzzling, recursion dances on,\n",
      "A beautiful melody in the programmer's song.\n",
      "Infinite possibilities it can unfurl,\n",
      "Recursion, the enigma of the coding world.\n"
     ]
    }
   ],
   "source": [
    "print(response_content)"
   ]
  },
  {
   "cell_type": "code",
   "execution_count": null,
   "metadata": {},
   "outputs": [],
   "source": []
  }
 ],
 "metadata": {
  "kernelspec": {
   "display_name": ".venv",
   "language": "python",
   "name": "python3"
  },
  "language_info": {
   "codemirror_mode": {
    "name": "ipython",
    "version": 3
   },
   "file_extension": ".py",
   "mimetype": "text/x-python",
   "name": "python",
   "nbconvert_exporter": "python",
   "pygments_lexer": "ipython3",
   "version": "3.12.0"
  }
 },
 "nbformat": 4,
 "nbformat_minor": 2
}
